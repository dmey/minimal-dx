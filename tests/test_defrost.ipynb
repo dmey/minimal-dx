{
 "cells": [
  {
   "cell_type": "code",
   "execution_count": null,
   "metadata": {},
   "outputs": [],
   "source": [
    "from collections import namedtuple\n",
    "import matplotlib.pyplot as plt\n",
    "import pandas as pd"
   ]
  },
  {
   "cell_type": "code",
   "execution_count": null,
   "metadata": {},
   "outputs": [],
   "source": [
    "out_path = \"outputs/heating-with-eplus-psychro/MinimalDX.csv\"\n",
    "outputs = pd.read_csv(out_path, delim_whitespace=True, na_values='Infinity')\n",
    "\n",
    "# determine output variables and row count from ref impl\n",
    "Var = namedtuple('Variable', ['key', 'name', 'unit'])\n",
    "\n",
    "out_vars = [\n",
    "    Var(name, *name.split('|'))\n",
    "    for name in outputs.columns.values\n",
    "]\n",
    "\n",
    "inputs = pd.read_csv(\"outputs/heating-with-eplus-psychro/test_data_heating.csv\" , delim_whitespace=True, na_values='Infinity')\n",
    "\n",
    "# determine output variables and row count from ref impl\n",
    "Var = namedtuple('Variable', ['key', 'name', 'unit'])\n",
    "\n",
    "in_vars = [\n",
    "    Var(name, *name.split('|'))\n",
    "    for name in inputs.columns.values\n",
    "]\n",
    "\n",
    "x = inputs[\"OutdoorTDryBulb|°C\"]\n"
   ]
  },
  {
   "cell_type": "code",
   "execution_count": null,
   "metadata": {},
   "outputs": [],
   "source": [
    "y = outputs[\"COP|1\"]\n",
    "fig, ax = plt.subplots()\n",
    "ax.scatter(x,y, alpha=0.2)\n",
    "df = pd.concat([x, y], axis=1)\n",
    "mean_values = df.groupby(df.columns[0])[df.columns[1]].mean()\n",
    "mean_values.plot(color=\"r\", linestyle=\"--\", ax=ax)\n",
    "ax.set_ylabel(\"COP\")\n",
    "ax.set_xlabel(\"Outdoor dry-bulb air temprature in °C\");"
   ]
  },
  {
   "cell_type": "code",
   "execution_count": null,
   "metadata": {},
   "outputs": [],
   "source": [
    "y = outputs[\"ElecHeatingPower|W\"]\n",
    "fig, ax = plt.subplots()\n",
    "ax.scatter(x,y, alpha=0.2)\n",
    "df = pd.concat([x, y], axis=1)\n",
    "mean_values = df.groupby(df.columns[0])[df.columns[1]].mean()\n",
    "mean_values.plot(color=\"r\", linestyle=\"--\", ax=ax)\n",
    "ax.set_ylabel(\"Electrical heating power in W\")\n",
    "ax.set_xlabel(\"Outdoor dry-bulb air temprature in °C\");"
   ]
  },
  {
   "cell_type": "code",
   "execution_count": null,
   "metadata": {},
   "outputs": [],
   "source": [
    "y = outputs[\"TotalHeatingEnergyRate|W\"]\n",
    "fig, ax = plt.subplots()\n",
    "ax.scatter(x,y, alpha=0.2)\n",
    "df = pd.concat([x, y], axis=1)\n",
    "mean_values = df.groupby(df.columns[0])[df.columns[1]].mean()\n",
    "mean_values.plot(color=\"r\", linestyle=\"--\", ax=ax)\n",
    "ax.set_ylabel(\"Total heating energy rate in W\")\n",
    "ax.set_xlabel(\"Outdoor dry-bulb air temprature in °C\");"
   ]
  },
  {
   "cell_type": "code",
   "execution_count": null,
   "metadata": {},
   "outputs": [],
   "source": []
  }
 ],
 "metadata": {
  "kernelspec": {
   "display_name": "minidx",
   "language": "python",
   "name": "python3"
  },
  "language_info": {
   "codemirror_mode": {
    "name": "ipython",
    "version": 3
   },
   "file_extension": ".py",
   "mimetype": "text/x-python",
   "name": "python",
   "nbconvert_exporter": "python",
   "pygments_lexer": "ipython3",
   "version": "3.10.13"
  }
 },
 "nbformat": 4,
 "nbformat_minor": 2
}
